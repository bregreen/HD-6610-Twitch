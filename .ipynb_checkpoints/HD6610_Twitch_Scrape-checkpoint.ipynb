{
 "cells": [
  {
   "cell_type": "markdown",
   "metadata": {},
   "source": [
    "# Twitch Chat Scraping\n"
   ]
  },
  {
   "cell_type": "code",
   "execution_count": 16,
   "metadata": {},
   "outputs": [],
   "source": [
    "### Imports\n",
    "\n",
    "from Twitch_key import * ### I made this .py file to house my Twitch_API_KEY\n",
    "import socket\n",
    "\n",
    "import logging\n",
    "import time\n",
    "from emoji import demojize\n",
    "\n",
    "\n",
    "import pandas as pd\n",
    "from datetime import datetime\n",
    "import re\n",
    "import seaborn as sns\n",
    "import matplotlib.pyplot as plt"
   ]
  },
  {
   "cell_type": "code",
   "execution_count": 41,
   "metadata": {},
   "outputs": [
    {
     "name": "stdout",
     "output_type": "stream",
     "text": [
      "What Channel are we scraping?: #qtcinderella\n"
     ]
    }
   ],
   "source": [
    "#######  Setting up the Twitch IRC Socket - Part 1: General Info ####### \n",
    "\n",
    "server = 'irc.chat.twitch.tv' #twitch provided\n",
    "port = 6667 #twitch provided\n",
    "nick = 'b_e_green' #your OWN twitch account\n",
    "token = Twitch_key() #however you'd like to generate your oauth token\n",
    "channel = input(\"What Channel are we scraping?: \")# '#QTCinderella' #the channel you want to scrape from; change to whomever! make sure the handle is lowercase"
   ]
  },
  {
   "cell_type": "code",
   "execution_count": 42,
   "metadata": {},
   "outputs": [
    {
     "data": {
      "text/plain": [
       "'#qtcinderella'"
      ]
     },
     "execution_count": 42,
     "metadata": {},
     "output_type": "execute_result"
    }
   ],
   "source": [
    "#######  Did you pick the right channel? ####### \n",
    "\n",
    "channel"
   ]
  },
  {
   "cell_type": "code",
   "execution_count": 64,
   "metadata": {},
   "outputs": [
    {
     "data": {
      "text/plain": [
       "'chat2022_03_17.log'"
      ]
     },
     "execution_count": 64,
     "metadata": {},
     "output_type": "execute_result"
    }
   ],
   "source": [
    "#######  Only need to run once ####### \n",
    "\n",
    "log_name = 'chat'+time.strftime(\"%Y_%m_%d\")+'.log'\n",
    "log_name"
   ]
  },
  {
   "cell_type": "code",
   "execution_count": null,
   "metadata": {},
   "outputs": [
    {
     "name": "stdout",
     "output_type": "stream",
     "text": [
      "Enter: 120\n"
     ]
    }
   ],
   "source": [
    "####### Pulling comments via the Connection ####### \n",
    "\n",
    "### Create a log file that saves your pull!\n",
    "logging.basicConfig(level=logging.DEBUG,\n",
    "                    format='%(asctime)s — %(message)s',\n",
    "                    datefmt='%Y-%m-%d_%H:%M:%S',\n",
    "                    handlers=[logging.FileHandler(log_name, encoding='utf-8')])\n",
    "\n",
    "\n",
    "### Connect to Socket\n",
    "sock = socket.socket()\n",
    "sock.connect((server, port))\n",
    "\n",
    "sock.send(f\"PASS {token}\\n\".encode('utf-8'))\n",
    "sock.send(f\"NICK {nick}\\n\".encode('utf-8'))\n",
    "sock.send(f\"JOIN {channel}\\n\".encode('utf-8'))\n",
    "\n",
    "\n",
    "### Loop for pull - I included a timer to run for a certain amount of seconds\n",
    "start_time = time.time()\n",
    "seconds = input(\"Enter number of seconds you want this to run: \")\n",
    "seconds = int(seconds)\n",
    "while True:\n",
    "    current_time = time.time()\n",
    "    elapsed_time = current_time - start_time\n",
    "\n",
    "    resp = sock.recv(2048).decode('utf-8')\n",
    "\n",
    "    if resp.startswith('PING'):\n",
    "        sock.send(\"PONG\\n\".encode('utf-8'))\n",
    "    \n",
    "    elif len(resp) > 0: # if you'd like to remove emojis from the text; Twitch uses a lot of them!\n",
    "        logging.info(demojize(resp))\n",
    "        \n",
    "    if elapsed_time > seconds:\n",
    "        print(\"Finished iterating in: \" + str(int(elapsed_time))  + \" seconds\")\n",
    "        break\n",
    "        sock.close() #closes the socket after your time runs out"
   ]
  },
  {
   "cell_type": "code",
   "execution_count": 49,
   "metadata": {},
   "outputs": [],
   "source": [
    "####### Generate a dataframe from the comments you pulled ####### \n",
    "\n",
    "### function to create dataframe from chat snippet\n",
    "def get_chat_dataframe(file):\n",
    "    data = []\n",
    "\n",
    "    with open(file, 'r', encoding='utf-8') as f:\n",
    "        lines = f.read().split('\\n\\n')\n",
    "        \n",
    "        for line in lines:\n",
    "#             print(line)\n",
    "            try:\n",
    "                cmnt_time = line.split('—')[0].strip()\n",
    "                cmnt_time = datetime.strptime(cmnt_time, '%Y-%m-%d_%H:%M:%S')\n",
    "\n",
    "                msg = line.split('—')[1:]\n",
    "                msg = '—'.join(msg).strip()\n",
    "\n",
    "                username, channel, message = re.search(\n",
    "                    ':(.*)\\!.*@.*\\.tmi\\.twitch\\.tv PRIVMSG #(.*) :(.*)', msg\n",
    "                ).groups()\n",
    "\n",
    "                d = {\n",
    "                    'dt': cmnt_time,\n",
    "                    'channel': channel,\n",
    "                    'username': username,\n",
    "                    'message': message\n",
    "                }\n",
    "\n",
    "                data.append(d)\n",
    "            \n",
    "            except Exception:\n",
    "                pass\n",
    "            \n",
    "    return pd.DataFrame(data)\n",
    "        "
   ]
  },
  {
   "cell_type": "code",
   "execution_count": 50,
   "metadata": {},
   "outputs": [],
   "source": [
    "####### Run DF function #######\n",
    "\n",
    "df = get_chat_dataframe(log_name)"
   ]
  },
  {
   "cell_type": "code",
   "execution_count": 51,
   "metadata": {},
   "outputs": [
    {
     "name": "stdout",
     "output_type": "stream",
     "text": [
      "(0, 0)\n"
     ]
    },
    {
     "data": {
      "text/html": [
       "<div>\n",
       "<style scoped>\n",
       "    .dataframe tbody tr th:only-of-type {\n",
       "        vertical-align: middle;\n",
       "    }\n",
       "\n",
       "    .dataframe tbody tr th {\n",
       "        vertical-align: top;\n",
       "    }\n",
       "\n",
       "    .dataframe thead th {\n",
       "        text-align: right;\n",
       "    }\n",
       "</style>\n",
       "<table border=\"1\" class=\"dataframe\">\n",
       "  <thead>\n",
       "    <tr style=\"text-align: right;\">\n",
       "      <th></th>\n",
       "    </tr>\n",
       "  </thead>\n",
       "  <tbody>\n",
       "  </tbody>\n",
       "</table>\n",
       "</div>"
      ],
      "text/plain": [
       "Empty DataFrame\n",
       "Columns: []\n",
       "Index: []"
      ]
     },
     "metadata": {},
     "output_type": "display_data"
    },
    {
     "data": {
      "text/html": [
       "<div>\n",
       "<style scoped>\n",
       "    .dataframe tbody tr th:only-of-type {\n",
       "        vertical-align: middle;\n",
       "    }\n",
       "\n",
       "    .dataframe tbody tr th {\n",
       "        vertical-align: top;\n",
       "    }\n",
       "\n",
       "    .dataframe thead th {\n",
       "        text-align: right;\n",
       "    }\n",
       "</style>\n",
       "<table border=\"1\" class=\"dataframe\">\n",
       "  <thead>\n",
       "    <tr style=\"text-align: right;\">\n",
       "      <th></th>\n",
       "    </tr>\n",
       "  </thead>\n",
       "  <tbody>\n",
       "  </tbody>\n",
       "</table>\n",
       "</div>"
      ],
      "text/plain": [
       "Empty DataFrame\n",
       "Columns: []\n",
       "Index: []"
      ]
     },
     "metadata": {},
     "output_type": "display_data"
    },
    {
     "name": "stdout",
     "output_type": "stream",
     "text": [
      "Series([], dtype: object)\n"
     ]
    }
   ],
   "source": [
    "####### Take a look at your dataframe! #######\n",
    "\n",
    "#df.set_index('dt', inplace=True) #use if you want the index to be the time variable\n",
    "\n",
    "### The shape of your DF\n",
    "print(df.shape)\n",
    "\n",
    "\n",
    "### Head & Tail of DF\n",
    "display(df.head(), df.tail())\n",
    "\n",
    "\n",
    "### What are the column data types for your DF?\n",
    "\n",
    "print(df.dtypes)"
   ]
  },
  {
   "cell_type": "code",
   "execution_count": 17,
   "metadata": {},
   "outputs": [
    {
     "name": "stdout",
     "output_type": "stream",
     "text": [
      "finesse_559                  4\n",
      "wizebot                      4\n",
      "lukeonrtx                    3\n",
      "iskims                       3\n",
      "sync_____________________    3\n",
      "mikebintrippin               2\n",
      "tlgoatttv                    2\n",
      "mosesari305                  2\n",
      "neveraidan                   1\n",
      "playboybanks                 1\n",
      "Name: username, dtype: int64 \n",
      "\n",
      "##############\n",
      "\n",
      "\n",
      "adinross                                                       54\n",
      "adinross :\u0001ACTION :star: NEW SUB :star: alexg_409 (+1693)       1\n",
      "adinross :\u0001ACTION :star: NEW SUB :star: LucidCiC (+1692)        1\n",
      "adinross :\u0001ACTION :star: NEW SUB :star: iameliteeee (+1691)     1\n",
      "adinross :\u0001ACTION :star: NEW SUB :star: tecap (+1690)           1\n",
      "Name: channel, dtype: int64 \n",
      "\n",
      "##############\n",
      "\n",
      "\n"
     ]
    },
    {
     "data": {
      "image/png": "[encoded data removed]",
      "text/plain": [
       "<Figure size 432x288 with 1 Axes>"
      ]
     },
     "metadata": {
      "needs_background": "light"
     },
     "output_type": "display_data"
    }
   ],
   "source": [
    "####### Explore #######\n",
    "\n",
    "print(df.username.value_counts()[:10], '\\n\\n##############\\n\\n')\n",
    "\n",
    "print(df.channel.value_counts()[:10], '\\n\\n##############\\n\\n')\n",
    "\n",
    "ax = df.dt.hist(xrot=45, bins = (df.dt.max() - df.dt.min()).days)\n",
    "\n",
    "ax.set_ylabel('Comment count')\n",
    "ax.grid('off')\n",
    "plt.show()"
   ]
  },
  {
   "cell_type": "code",
   "execution_count": null,
   "metadata": {},
   "outputs": [],
   "source": [
    "while elapsed_time <= seconds:\n",
    "    \n",
    "    current_time = time.time()\n",
    "    start_time = time.time()\n",
    "\n",
    "    resp = sock.recv(2048).decode('utf-8')\n",
    "    elapsed_time += start_time - current_time\n",
    "    print(elapsed_time)\n",
    "\n",
    "    if resp.startswith('PING'):\n",
    "        sock.send(\"PONG\\n\".encode('utf-8'))\n",
    "        print('PING-PONG!')\n",
    "        \n",
    "    else:\n",
    "        pass\n",
    "    \n",
    "    if len(resp) > 0: # if you'd like to remove emojis from the text; Twitch uses a lot of them!\n",
    "        logging.info(demojize(resp))\n",
    "    \n",
    "        \n",
    "    if elapsed_time > seconds:\n",
    "        print(\"Finished iterating in: \" + str(int(elapsed_time))  + \" seconds\")\n",
    "        break\n",
    "        sock.close() "
   ]
  }
 ],
 "metadata": {
  "kernelspec": {
   "display_name": "Python 3",
   "language": "python",
   "name": "python3"
  },
  "language_info": {
   "codemirror_mode": {
    "name": "ipython",
    "version": 3
   },
   "file_extension": ".py",
   "mimetype": "text/x-python",
   "name": "python",
   "nbconvert_exporter": "python",
   "pygments_lexer": "ipython3",
   "version": "3.8.5"
  }
 },
 "nbformat": 4,
 "nbformat_minor": 4
}
