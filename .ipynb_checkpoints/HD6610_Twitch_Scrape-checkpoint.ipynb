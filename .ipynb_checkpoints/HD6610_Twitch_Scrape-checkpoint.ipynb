{
 "cells": [
  {
   "cell_type": "markdown",
   "metadata": {},
   "source": [
    "# Twitch Chat Scraping\n"
   ]
  },
  {
   "cell_type": "code",
   "execution_count": 2,
   "metadata": {},
   "outputs": [],
   "source": [
    "### Imports\n",
    "\n",
    "from Twitch_key import * ### I made this .py file to house my Twitch_API_KEY\n",
    "import socket\n",
    "\n",
    "import logging\n",
    "import time\n",
    "from emoji import demojize\n",
    "\n",
    "\n",
    "import pandas as pd\n",
    "from datetime import datetime\n",
    "import re\n",
    "import seaborn as sns\n",
    "import matplotlib.pyplot as plt"
   ]
  },
  {
   "cell_type": "code",
   "execution_count": 3,
   "metadata": {},
   "outputs": [
    {
     "name": "stdout",
     "output_type": "stream",
     "text": [
      "What Channel are we scraping?: #qtcinderella\n"
     ]
    }
   ],
   "source": [
    "#######  Setting up the Twitch IRC Socket - Part 1: General Info ####### \n",
    "\n",
    "server = 'irc.chat.twitch.tv' #twitch provided\n",
    "port = 6667 #twitch provided\n",
    "nick = 'b_e_green' #your OWN twitch account\n",
    "token = Twitch_key() #however you'd like to generate your oauth token\n",
    "channel = input(\"What Channel are we scraping?: \")# '#QTCinderella' #the channel you want to scrape from; change to whomever! make sure the handle is lowercase"
   ]
  },
  {
   "cell_type": "code",
   "execution_count": 4,
   "metadata": {},
   "outputs": [
    {
     "data": {
      "text/plain": [
       "'#qtcinderella'"
      ]
     },
     "execution_count": 4,
     "metadata": {},
     "output_type": "execute_result"
    }
   ],
   "source": [
    "#######  Did you pick the right channel? ####### \n",
    "\n",
    "channel"
   ]
  },
  {
   "cell_type": "code",
   "execution_count": 5,
   "metadata": {},
   "outputs": [
    {
     "data": {
      "text/plain": [
       "'chat2022_03_17.log'"
      ]
     },
     "execution_count": 5,
     "metadata": {},
     "output_type": "execute_result"
    }
   ],
   "source": [
    "#######  Only need to run once ####### \n",
    "\n",
    "log_name = 'chat'+time.strftime(\"%Y_%m_%d\")+'.log'\n",
    "log_name"
   ]
  },
  {
   "cell_type": "code",
   "execution_count": 6,
   "metadata": {},
   "outputs": [],
   "source": [
    "### Create a log file that saves your pull!\n",
    "logging.basicConfig(level=logging.DEBUG,\n",
    "                    format='%(asctime)s — %(message)s',\n",
    "                    datefmt='%Y-%m-%d_%H:%M:%S',\n",
    "                    handlers=[logging.FileHandler(log_name, encoding='utf-8')])"
   ]
  },
  {
   "cell_type": "code",
   "execution_count": 9,
   "metadata": {},
   "outputs": [
    {
     "name": "stdout",
     "output_type": "stream",
     "text": [
      "Enter number of seconds you want this to run: 600\n",
      "Finished iterating in: 600 seconds\n"
     ]
    }
   ],
   "source": [
    "####### Pulling comments via the Connection ####### \n",
    "\n",
    "### Connect to Socket\n",
    "sock = socket.socket()\n",
    "sock.connect((server, port))\n",
    "\n",
    "sock.send(f\"PASS {token}\\n\".encode('utf-8'))\n",
    "sock.send(f\"NICK {nick}\\n\".encode('utf-8'))\n",
    "sock.send(f\"JOIN {channel}\\n\".encode('utf-8'))\n",
    "\n",
    "\n",
    "### Loop for pull - I included a timer to run for a certain amount of seconds\n",
    "start_time = time.time()\n",
    "seconds = input(\"Enter number of seconds you want this to run: \")\n",
    "seconds = int(seconds)\n",
    "while True:\n",
    "    current_time = time.time()\n",
    "    elapsed_time = current_time - start_time\n",
    "\n",
    "    resp = sock.recv(2048).decode('utf-8')\n",
    "\n",
    "    if resp.startswith('PING'):\n",
    "        sock.send(\"PONG\\n\".encode('utf-8'))\n",
    "        print('PING-PONG!')\n",
    "    \n",
    "    elif len(resp) > 0: # if you'd like to remove emojis from the text; Twitch uses a lot of them!\n",
    "        logging.info(demojize(resp))\n",
    "        \n",
    "    if elapsed_time > seconds:\n",
    "        print(\"Finished iterating in: \" + str(int(elapsed_time))  + \" seconds\")\n",
    "        break\n",
    "        sock.close() #closes the socket after your time runs out"
   ]
  },
  {
   "cell_type": "code",
   "execution_count": 10,
   "metadata": {},
   "outputs": [],
   "source": [
    "####### Generate a dataframe from the comments you pulled ####### \n",
    "\n",
    "### function to create dataframe from chat snippet\n",
    "def get_chat_dataframe(file):\n",
    "    data = []\n",
    "\n",
    "    with open(file, 'r', encoding='utf-8') as f:\n",
    "        lines = f.read().split('\\n\\n')\n",
    "        \n",
    "        for line in lines:\n",
    "#             print(line)\n",
    "            try:\n",
    "                cmnt_time = line.split('—')[0].strip()\n",
    "                cmnt_time = datetime.strptime(cmnt_time, '%Y-%m-%d_%H:%M:%S')\n",
    "\n",
    "                msg = line.split('—')[1:]\n",
    "                msg = '—'.join(msg).strip()\n",
    "\n",
    "                username, channel, message = re.search(\n",
    "                    ':(.*)\\!.*@.*\\.tmi\\.twitch\\.tv PRIVMSG #(.*) :(.*)', msg\n",
    "                ).groups()\n",
    "\n",
    "                d = {\n",
    "                    'dt': cmnt_time,\n",
    "                    'channel': channel,\n",
    "                    'username': username,\n",
    "                    'message': message\n",
    "                }\n",
    "\n",
    "                data.append(d)\n",
    "            \n",
    "            except Exception:\n",
    "                pass\n",
    "            \n",
    "    return pd.DataFrame(data)\n",
    "        "
   ]
  },
  {
   "cell_type": "code",
   "execution_count": 11,
   "metadata": {},
   "outputs": [],
   "source": [
    "####### Run DF function #######\n",
    "\n",
    "df = get_chat_dataframe(log_name)"
   ]
  },
  {
   "cell_type": "code",
   "execution_count": 12,
   "metadata": {},
   "outputs": [
    {
     "name": "stdout",
     "output_type": "stream",
     "text": [
      "(910, 4)\n"
     ]
    },
    {
     "data": {
      "text/html": [
       "<div>\n",
       "<style scoped>\n",
       "    .dataframe tbody tr th:only-of-type {\n",
       "        vertical-align: middle;\n",
       "    }\n",
       "\n",
       "    .dataframe tbody tr th {\n",
       "        vertical-align: top;\n",
       "    }\n",
       "\n",
       "    .dataframe thead th {\n",
       "        text-align: right;\n",
       "    }\n",
       "</style>\n",
       "<table border=\"1\" class=\"dataframe\">\n",
       "  <thead>\n",
       "    <tr style=\"text-align: right;\">\n",
       "      <th></th>\n",
       "      <th>dt</th>\n",
       "      <th>channel</th>\n",
       "      <th>username</th>\n",
       "      <th>message</th>\n",
       "    </tr>\n",
       "  </thead>\n",
       "  <tbody>\n",
       "    <tr>\n",
       "      <th>0</th>\n",
       "      <td>2022-03-17 23:04:01</td>\n",
       "      <td>qtcinderella</td>\n",
       "      <td>hellrauser</td>\n",
       "      <td>sagde</td>\n",
       "    </tr>\n",
       "    <tr>\n",
       "      <th>1</th>\n",
       "      <td>2022-03-17 23:04:03</td>\n",
       "      <td>qtcinderella</td>\n",
       "      <td>groovy1</td>\n",
       "      <td>thats a big room</td>\n",
       "    </tr>\n",
       "    <tr>\n",
       "      <th>2</th>\n",
       "      <td>2022-03-17 23:04:06</td>\n",
       "      <td>qtcinderella :me</td>\n",
       "      <td>mythrilfenix</td>\n",
       "      <td>(</td>\n",
       "    </tr>\n",
       "    <tr>\n",
       "      <th>3</th>\n",
       "      <td>2022-03-17 23:04:07</td>\n",
       "      <td>qtcinderella</td>\n",
       "      <td>plantcats</td>\n",
       "      <td>What year?</td>\n",
       "    </tr>\n",
       "    <tr>\n",
       "      <th>4</th>\n",
       "      <td>2022-03-17 23:04:07</td>\n",
       "      <td>qtcinderella</td>\n",
       "      <td>natabeee</td>\n",
       "      <td>OINKING</td>\n",
       "    </tr>\n",
       "  </tbody>\n",
       "</table>\n",
       "</div>"
      ],
      "text/plain": [
       "                   dt           channel      username           message\n",
       "0 2022-03-17 23:04:01      qtcinderella    hellrauser             sagde\n",
       "1 2022-03-17 23:04:03      qtcinderella       groovy1  thats a big room\n",
       "2 2022-03-17 23:04:06  qtcinderella :me  mythrilfenix                 (\n",
       "3 2022-03-17 23:04:07      qtcinderella     plantcats        What year?\n",
       "4 2022-03-17 23:04:07      qtcinderella      natabeee           OINKING"
      ]
     },
     "metadata": {},
     "output_type": "display_data"
    },
    {
     "data": {
      "text/html": [
       "<div>\n",
       "<style scoped>\n",
       "    .dataframe tbody tr th:only-of-type {\n",
       "        vertical-align: middle;\n",
       "    }\n",
       "\n",
       "    .dataframe tbody tr th {\n",
       "        vertical-align: top;\n",
       "    }\n",
       "\n",
       "    .dataframe thead th {\n",
       "        text-align: right;\n",
       "    }\n",
       "</style>\n",
       "<table border=\"1\" class=\"dataframe\">\n",
       "  <thead>\n",
       "    <tr style=\"text-align: right;\">\n",
       "      <th></th>\n",
       "      <th>dt</th>\n",
       "      <th>channel</th>\n",
       "      <th>username</th>\n",
       "      <th>message</th>\n",
       "    </tr>\n",
       "  </thead>\n",
       "  <tbody>\n",
       "    <tr>\n",
       "      <th>905</th>\n",
       "      <td>2022-03-17 23:13:23</td>\n",
       "      <td>qtcinderella</td>\n",
       "      <td>mlengka</td>\n",
       "      <td>oh sheet</td>\n",
       "    </tr>\n",
       "    <tr>\n",
       "      <th>906</th>\n",
       "      <td>2022-03-17 23:13:23</td>\n",
       "      <td>qtcinderella</td>\n",
       "      <td>eviteri97</td>\n",
       "      <td>#ask what is your favorite Beatles song and al...</td>\n",
       "    </tr>\n",
       "    <tr>\n",
       "      <th>907</th>\n",
       "      <td>2022-03-17 23:13:26</td>\n",
       "      <td>qtcinderella</td>\n",
       "      <td>thaleslol</td>\n",
       "      <td>#ask were ders and swift your pets or lud</td>\n",
       "    </tr>\n",
       "    <tr>\n",
       "      <th>908</th>\n",
       "      <td>2022-03-17 23:13:27</td>\n",
       "      <td>qtcinderella</td>\n",
       "      <td>wonderful_wilderness</td>\n",
       "      <td>kekw</td>\n",
       "    </tr>\n",
       "    <tr>\n",
       "      <th>909</th>\n",
       "      <td>2022-03-17 23:13:27</td>\n",
       "      <td>qtcinderella</td>\n",
       "      <td>jumbawill</td>\n",
       "      <td>ending of hbp was awesome</td>\n",
       "    </tr>\n",
       "  </tbody>\n",
       "</table>\n",
       "</div>"
      ],
      "text/plain": [
       "                     dt       channel              username  \\\n",
       "905 2022-03-17 23:13:23  qtcinderella               mlengka   \n",
       "906 2022-03-17 23:13:23  qtcinderella             eviteri97   \n",
       "907 2022-03-17 23:13:26  qtcinderella             thaleslol   \n",
       "908 2022-03-17 23:13:27  qtcinderella  wonderful_wilderness   \n",
       "909 2022-03-17 23:13:27  qtcinderella             jumbawill   \n",
       "\n",
       "                                               message  \n",
       "905                                           oh sheet  \n",
       "906  #ask what is your favorite Beatles song and al...  \n",
       "907          #ask were ders and swift your pets or lud  \n",
       "908                                               kekw  \n",
       "909                          ending of hbp was awesome  "
      ]
     },
     "metadata": {},
     "output_type": "display_data"
    },
    {
     "name": "stdout",
     "output_type": "stream",
     "text": [
      "dt          datetime64[ns]\n",
      "channel             object\n",
      "username            object\n",
      "message             object\n",
      "dtype: object\n"
     ]
    }
   ],
   "source": [
    "####### Take a look at your dataframe! #######\n",
    "\n",
    "#df.set_index('dt', inplace=True) #use if you want the index to be the time variable\n",
    "\n",
    "### The shape of your DF\n",
    "print(df.shape)\n",
    "\n",
    "\n",
    "### Head & Tail of DF\n",
    "display(df.head(), df.tail())\n",
    "\n",
    "\n",
    "### What are the column data types for your DF?\n",
    "\n",
    "print(df.dtypes)"
   ]
  },
  {
   "cell_type": "code",
   "execution_count": 14,
   "metadata": {},
   "outputs": [
    {
     "name": "stdout",
     "output_type": "stream",
     "text": [
      "wonderful_wilderness    22\n",
      "socks_____              19\n",
      "sapphic_sierra          15\n",
      "catghouls               15\n",
      "cj_dr20                 14\n",
      "natabeee                14\n",
      "selachii_ii             12\n",
      "amrut_                  12\n",
      "dragonslayer5472        12\n",
      "mena369                 10\n",
      "Name: username, dtype: int64 \n",
      "\n",
      "##############\n",
      "\n",
      "\n",
      "qtcinderella                                             903\n",
      "qtcinderella :lmao                                         1\n",
      "qtcinderella :maya is so smol easy to sneak in places      1\n",
      "qtcinderella :i love the office                            1\n",
      "qtcinderella :LULW                                         1\n",
      "qtcinderella :me                                           1\n",
      "qtcinderella :i like the office                            1\n",
      "qtcinderella :KEKW                                         1\n",
      "Name: channel, dtype: int64 \n",
      "\n",
      "##############\n",
      "\n",
      "\n"
     ]
    },
    {
     "data": {
      "image/png": "[encoded data removed]",
      "text/plain": [
       "<Figure size 432x288 with 1 Axes>"
      ]
     },
     "metadata": {
      "needs_background": "light"
     },
     "output_type": "display_data"
    }
   ],
   "source": [
    "####### Explore #######\n",
    "\n",
    "print(df.username.value_counts()[:10], '\\n\\n##############\\n\\n')\n",
    "\n",
    "print(df.channel.value_counts()[:10], '\\n\\n##############\\n\\n')\n",
    "\n",
    "ax = df.dt.hist(xrot=45, bins = (df.dt.max() - df.dt.min()).seconds)\n",
    "\n",
    "ax.set_ylabel('Comment count')\n",
    "ax.grid('off')\n",
    "plt.show()"
   ]
  },
  {
   "cell_type": "code",
   "execution_count": null,
   "metadata": {},
   "outputs": [],
   "source": []
  }
 ],
 "metadata": {
  "kernelspec": {
   "display_name": "Python 3",
   "language": "python",
   "name": "python3"
  },
  "language_info": {
   "codemirror_mode": {
    "name": "ipython",
    "version": 3
   },
   "file_extension": ".py",
   "mimetype": "text/x-python",
   "name": "python",
   "nbconvert_exporter": "python",
   "pygments_lexer": "ipython3",
   "version": "3.8.5"
  }
 },
 "nbformat": 4,
 "nbformat_minor": 4
}
